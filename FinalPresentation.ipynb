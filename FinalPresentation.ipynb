{
 "cells": [
  {
   "cell_type": "markdown",
   "metadata": {
    "slideshow": {
     "slide_type": "slide"
    }
   },
   "source": [
    "## Fundamentals of Data Science: Final Presentation"
   ]
  },
  {
   "cell_type": "markdown",
   "metadata": {
    "slideshow": {
     "slide_type": "-"
    }
   },
   "source": [
    "<center><img src=\"TeamPicture.png\" alt=\"drawing\" width=\"900\"/></center>"
   ]
  },
  {
   "cell_type": "code",
   "execution_count": 2,
   "metadata": {
    "slideshow": {
     "slide_type": "skip"
    }
   },
   "outputs": [],
   "source": [
    "import pandas as pd\n",
    "import numpy as np\n",
    "import matplotlib.pyplot as plt \n",
    "import seaborn as sns\n",
    "from astropy.time import Time\n",
    "from collections import Counter\n",
    "\n",
    "sns.set_context(\"talk\")\n",
    "sns.set_style(\"white\")\n",
    "sns.set_palette(\"Dark2\")\n",
    "\n",
    "import sys\n",
    "import warnings\n",
    "\n",
    "if not sys.warnoptions:\n",
    "    warnings.simplefilter(\"ignore\")\n",
    "    \n",
    "import logging\n",
    "logger = logging.getLogger(\"pymc3\")\n",
    "logger.propagate = False"
   ]
  },
  {
   "cell_type": "markdown",
   "metadata": {
    "slideshow": {
     "slide_type": "slide"
    }
   },
   "source": [
    "*Charmi*\n",
    "## Supernovae\n",
    "<center><img src=\"SN1994D.jpg\" alt=\"drawing\" width=\"500\"/></center>\n",
    "\n",
    "SN are incredibly complex events, and all we have to study them are counts on a detector. To understand these explosions and the stars that caused them, we have to understand the detailed evolution of an SN's energy output. "
   ]
  },
  {
   "cell_type": "markdown",
   "metadata": {
    "slideshow": {
     "slide_type": "subslide"
    }
   },
   "source": [
    "*Charmi*\n",
    "# Objects in this project\n",
    "\n",
    "* 2020oi - Type Ic\n",
    "* LSQ12gdj - Type Ia\n",
    "* 1987A - Type II\n",
    "* 2011fe - Type Ia\n",
    "\n",
    "Why did we choose these? We wanted a spread in data quality and types of supernovae. 1987A and 2011fe are well studied and good benchmarks. 2020oi is a newly discovered event that Alex is working on in real life*. LSQ12gdj was chosen because it is the main focus of Scalzo et. al. 2014, where the authors similarly obtain a bolometric light curve.\n",
    "\n",
    "*real life is not class."
   ]
  },
  {
   "cell_type": "markdown",
   "metadata": {
    "slideshow": {
     "slide_type": "slide"
    }
   },
   "source": [
    "*Charmi*\n",
    "\n",
    "## The Bolometric Problem\n",
    "SN emit in nearly all wavelengths, but we aren't able to take a spectrum continuously throughout the entire event. \n"
   ]
  },
  {
   "cell_type": "markdown",
   "metadata": {
    "slideshow": {
     "slide_type": "fragment"
    }
   },
   "source": [
    "* Dust extinction masks blue/UV emission, contributes IR emission"
   ]
  },
  {
   "cell_type": "markdown",
   "metadata": {
    "slideshow": {
     "slide_type": "fragment"
    }
   },
   "source": [
    "* We miss some flux before event discovery"
   ]
  },
  {
   "cell_type": "markdown",
   "metadata": {
    "slideshow": {
     "slide_type": "fragment"
    }
   },
   "source": [
    "* Bands are discretized - e.g. ugriz, UBVRI - so photometry tells a small part of the story. "
   ]
  },
  {
   "cell_type": "markdown",
   "metadata": {
    "slideshow": {
     "slide_type": "fragment"
    }
   },
   "source": [
    "We need some way to estimate the amount of energy these SN emitted (or continue to emit) in all wavelengths, while only measuring a few. "
   ]
  },
  {
   "cell_type": "markdown",
   "metadata": {
    "slideshow": {
     "slide_type": "slide"
    }
   },
   "source": [
    "*Cyrus*\n",
    "## Gaussian Processes (GPs) to the rescue! \n",
    "(With hierarchical models to boot)\n",
    "\n",
    "A **Gaussian Process** is a stochastic process consisting of random variables whose every finite linear combination is normally distributed. If we choose our random variables (and our linear combinations) intelligently, we can use them to fit data. "
   ]
  },
  {
   "cell_type": "markdown",
   "metadata": {
    "slideshow": {
     "slide_type": "slide"
    }
   },
   "source": [
    "*Cyrus*\n",
    "## Part I: Creating a Mean Model\n",
    "We opted for a spline of two quadratic functions. We attempted two different models: \n",
    "* Spline at maximum (peak brightness in $r$-band)\n",
    "* Spline during decline (located by visual inspection)"
   ]
  },
  {
   "cell_type": "markdown",
   "metadata": {
    "slideshow": {
     "slide_type": "subslide"
    }
   },
   "source": [
    "<center><img src=\"plots/MeanModels.png\" alt=\"drawing\" width=\"900\"/></center>"
   ]
  },
  {
   "cell_type": "markdown",
   "metadata": {
    "slideshow": {
     "slide_type": "slide"
    }
   },
   "source": [
    "*Cyrus*\n",
    "## Part II: With George, we can condition on the data (with a squared exponential kernel) for a better fitting model. "
   ]
  },
  {
   "cell_type": "markdown",
   "metadata": {
    "slideshow": {
     "slide_type": "subslide"
    }
   },
   "source": [
    "<center><img src=\"plots/George.png\" alt=\"drawing\" width=\"900\"/></center>"
   ]
  },
  {
   "cell_type": "markdown",
   "metadata": {
    "slideshow": {
     "slide_type": "slide"
    }
   },
   "source": [
    "*Melanie*\n",
    "## Part III: Gaussian Processes Implemented in PyMC3\n",
    "So that we'll be able to use a hierarchical model!"
   ]
  },
  {
   "cell_type": "markdown",
   "metadata": {
    "slideshow": {
     "slide_type": "subslide"
    }
   },
   "source": [
    "One main difference between the GPs in george and PyMC3 is that george let us make the turning point a parameter. PyMC3 did not allow booleans from parameters, so we had to manually approximate this time value."
   ]
  },
  {
   "cell_type": "markdown",
   "metadata": {
    "slideshow": {
     "slide_type": "subslide"
    }
   },
   "source": [
    "<center><img src=\"plots/OneBandPyMc3.png\" alt=\"drawing\" width=\"900\"/></center>"
   ]
  },
  {
   "cell_type": "markdown",
   "metadata": {
    "slideshow": {
     "slide_type": "slide"
    }
   },
   "source": [
    "*Melanie*\n",
    "## Part IV: Hierarchical GPs in PyMC3\n",
    "For $N$ bands, we generate six random variables for our quadratic parameters: \n",
    "* $N$-dimensional Gaussian distributions centered on polyfit values\n",
    "$$ m_1 = a_1 t^2 + b_1 t + c_1 $$\n",
    "$$ m_2 = a_2 t^2 + b_2 t + c_2 $$\n",
    "* $N$ gps with same mean model, squared exponential kernel\n",
    "$$ k(x, x') = \\text{exp} \\left[ - \\frac{(x-x')^2}{2 \\ell^2} \\right] $$\n",
    "* Condition on low-error values"
   ]
  },
  {
   "cell_type": "markdown",
   "metadata": {
    "slideshow": {
     "slide_type": "subslide"
    }
   },
   "source": [
    "The usefulness of a hierarchical model is that our parameters for each band could be drawn from the same distribution, so we can model the similarities in the population but allow individual parameter estimates. Doing so *shrinks* the variance between the parameter estimates."
   ]
  },
  {
   "cell_type": "markdown",
   "metadata": {
    "slideshow": {
     "slide_type": "subslide"
    }
   },
   "source": [
    "Other parameters for consideration were the smoothing length, noise, and the \"turn over\" time for the spline. After tweaking, we did end up drawing the kernel smoothing length from a distribution as well."
   ]
  },
  {
   "cell_type": "markdown",
   "metadata": {
    "slideshow": {
     "slide_type": "slide"
    }
   },
   "source": [
    "<center><img src=\"plots/AllBandPyMc3.png\" alt=\"drawing\" width=\"900\"/></center>"
   ]
  },
  {
   "cell_type": "markdown",
   "metadata": {
    "slideshow": {
     "slide_type": "slide"
    }
   },
   "source": [
    "*Alex*\n",
    "## Part V: Converting Posteriors to Bolometric Lightcurves\n",
    "\n",
    "* First, we took the median of all posteriors in each band.\n",
    "* We then estimated model error by adding the standard deviation of the posteriors in quadrature across the bands.\n",
    "* We used trapezoidal integration to get the bolometric flux, and from that, luminosity."
   ]
  },
  {
   "cell_type": "markdown",
   "metadata": {
    "slideshow": {
     "slide_type": "subslide"
    }
   },
   "source": [
    "To convert from bolometric flux to bolometric luminosity, we use the following relationship: \n",
    "\n",
    "$$ L_{bol} = F_{bol}  4 \\pi d_{SN}^2$$\n",
    "\n",
    "Where $d_{SN}$ is the distance to the supernova."
   ]
  },
  {
   "cell_type": "markdown",
   "metadata": {
    "slideshow": {
     "slide_type": "slide"
    }
   },
   "source": [
    "<center><img src=\"plots/Bolometric.png\" alt=\"drawing\" width=\"900\"/></center>"
   ]
  },
  {
   "cell_type": "markdown",
   "metadata": {
    "slideshow": {
     "slide_type": "slide"
    }
   },
   "source": [
    "*Alex*\n",
    "## Part VIa: Estimating Temperature Evolution with Stefan-Boltzmann\n",
    "\n",
    "If we assume a blackbody, then we can get a (ballpark) estimate for the photospheric temperature of the supernova over time with the equation:\n",
    "\n",
    "$$\n",
    "L_{bol}(MJD) = 4 \\pi R(MJD)^2 \\sigma_{SB} T_{eff}(MJD)^4\n",
    "$$\n",
    "\n",
    "We have decided as a start to assume a fixed photospheric radius. This also assumes our calculated $L_{bol}$ captures the full SN emission. "
   ]
  },
  {
   "cell_type": "markdown",
   "metadata": {
    "slideshow": {
     "slide_type": "subslide"
    }
   },
   "source": [
    "<center><img src=\"plots/SB_curves.png\" alt=\"drawing\" width=\"900\"/></center>\n",
    "\n",
    "How can we do better? "
   ]
  },
  {
   "cell_type": "markdown",
   "metadata": {
    "slideshow": {
     "slide_type": "slide"
    }
   },
   "source": [
    "*Alex*\n",
    "## Part VIb: Obtaining Temperature from a Blackbody Fit\n",
    "In reality, trapezoidal integration over observed bands only captures a fraction of the full SED. \n",
    "\n",
    "<center><img src=\"./SED1.png\" alt=\"drawing\" width=\"400\"/></center>\n",
    "\n",
    "\n",
    "(ASAS-SN)\n",
    "\n",
    "Other people have made packages that estimate bolometric lightcurves (SuperBoL and superbol, for example). In superbol, they fit a blackbody curve to the observed flux at each time to derive temperature and radius. We attempted to do the same."
   ]
  },
  {
   "cell_type": "markdown",
   "metadata": {
    "slideshow": {
     "slide_type": "slide"
    }
   },
   "source": [
    "<center><img src=\"plots/BB_curves.png\" alt=\"drawing\" width=\"900\"/></center>"
   ]
  },
  {
   "cell_type": "markdown",
   "metadata": {
    "slideshow": {
     "slide_type": "slide"
    }
   },
   "source": [
    "*The Audience*\n",
    "## Summary\n",
    "\n",
    "Our goal was to get **temperatures** from supernova data using **Gaussian Processes** in a **hierarchical model**. To do so, we had to consult literature and our own astrophysical knowledge about what model parameters might make sense. We've discovered: \n",
    "* Tradeoff between data fitting and model fitting\n",
    "* Error propagation is hard\n",
    "\n",
    "But, in the end, we got temperatures. Ta-da!"
   ]
  }
 ],
 "metadata": {
  "celltoolbar": "Slideshow",
  "kernelspec": {
   "display_name": "Python 3",
   "language": "python",
   "name": "python3"
  },
  "language_info": {
   "codemirror_mode": {
    "name": "ipython",
    "version": 3
   },
   "file_extension": ".py",
   "mimetype": "text/x-python",
   "name": "python",
   "nbconvert_exporter": "python",
   "pygments_lexer": "ipython3",
   "version": "3.7.7"
  }
 },
 "nbformat": 4,
 "nbformat_minor": 4
}
